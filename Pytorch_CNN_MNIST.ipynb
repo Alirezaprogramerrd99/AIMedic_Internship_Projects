{
  "nbformat": 4,
  "nbformat_minor": 0,
  "metadata": {
    "colab": {
      "name": "Pytorch_CNN_MNIST.ipynb",
      "provenance": [],
      "collapsed_sections": [],
      "authorship_tag": "ABX9TyOZGJK3uGaXrUV7yezcOA8c",
      "include_colab_link": true
    },
    "kernelspec": {
      "name": "python3",
      "display_name": "Python 3"
    },
    "language_info": {
      "name": "python"
    }
  },
  "cells": [
    {
      "cell_type": "markdown",
      "metadata": {
        "id": "view-in-github",
        "colab_type": "text"
      },
      "source": [
        "<a href=\"https://colab.research.google.com/github/Alirezaprogramerrd99/AIMedic_Internship_Projects/blob/main/Pytorch_CNN_MNIST.ipynb\" target=\"_parent\"><img src=\"https://colab.research.google.com/assets/colab-badge.svg\" alt=\"Open In Colab\"/></a>"
      ]
    },
    {
      "cell_type": "markdown",
      "metadata": {
        "id": "R6OrLatHvFzW"
      },
      "source": [
        "## Importing libs:"
      ]
    },
    {
      "cell_type": "code",
      "metadata": {
        "id": "ZAoFDHTat0T7"
      },
      "source": [
        "# implementing CNN for MNIST data set using Pytorch.\n",
        "import torch\n",
        "import torch.nn as nn\n",
        "import numpy as np\n",
        "import matplotlib.pyplot as plt\n",
        "from torch.utils.data import Dataset, DataLoader\n",
        "from torch import optim\n",
        "from torch.autograd import Variable\n",
        "from matplotlib import pyplot as plt"
      ],
      "execution_count": null,
      "outputs": []
    },
    {
      "cell_type": "markdown",
      "metadata": {
        "id": "-6EKGetvvMcB"
      },
      "source": [
        "## Loading mnist dataset:"
      ]
    },
    {
      "cell_type": "code",
      "metadata": {
        "id": "vae8NmmBvLoy"
      },
      "source": [
        "# os.listdir(os.path.join('sample_data'))\n",
        "data = np.loadtxt('sample_data/mnist_train_small.csv', delimiter=',')\n",
        "test_data = np.loadtxt('sample_data/mnist_test.csv', delimiter=',')"
      ],
      "execution_count": null,
      "outputs": []
    },
    {
      "cell_type": "code",
      "metadata": {
        "colab": {
          "base_uri": "https://localhost:8080/"
        },
        "id": "PUB9_vM90-_Z",
        "outputId": "3dfeb5c2-b3f3-44b5-9f4d-b00813c298f7"
      },
      "source": [
        "print('MNIST data shape: ',data.shape)\n",
        "print('test data shape: ',test_data.shape)"
      ],
      "execution_count": null,
      "outputs": [
        {
          "output_type": "stream",
          "name": "stdout",
          "text": [
            "MNIST data shape:  (20000, 785)\n",
            "test data shape:  (10000, 785)\n"
          ]
        }
      ]
    },
    {
      "cell_type": "code",
      "metadata": {
        "colab": {
          "base_uri": "https://localhost:8080/"
        },
        "id": "6we4YQyV1DSk",
        "outputId": "df1cec29-0fac-403e-c81e-844c9e81cc98"
      },
      "source": [
        "print(data[0:10])\n",
        "X, y, X_test, y_test  = data[:, 1:], data[:, 0], test_data[:, 1:], test_data[:, 0]\n",
        "\n",
        "print('\\nX:', X)\n",
        "print('\\nlabels:', y)"
      ],
      "execution_count": null,
      "outputs": [
        {
          "output_type": "stream",
          "name": "stdout",
          "text": [
            "[[6. 0. 0. ... 0. 0. 0.]\n",
            " [5. 0. 0. ... 0. 0. 0.]\n",
            " [7. 0. 0. ... 0. 0. 0.]\n",
            " ...\n",
            " [6. 0. 0. ... 0. 0. 0.]\n",
            " [5. 0. 0. ... 0. 0. 0.]\n",
            " [5. 0. 0. ... 0. 0. 0.]]\n",
            "\n",
            "X: [[0. 0. 0. ... 0. 0. 0.]\n",
            " [0. 0. 0. ... 0. 0. 0.]\n",
            " [0. 0. 0. ... 0. 0. 0.]\n",
            " ...\n",
            " [0. 0. 0. ... 0. 0. 0.]\n",
            " [0. 0. 0. ... 0. 0. 0.]\n",
            " [0. 0. 0. ... 0. 0. 0.]]\n",
            "\n",
            "labels: [6. 5. 7. ... 2. 9. 5.]\n"
          ]
        }
      ]
    },
    {
      "cell_type": "code",
      "metadata": {
        "colab": {
          "base_uri": "https://localhost:8080/"
        },
        "id": "bT2xCBpU5bIC",
        "outputId": "985dcc3d-ec43-488c-d72a-472bb279abb2"
      },
      "source": [
        "for label in range(10):\n",
        "    print('{} datas with label={}'.format(np.sum(y == label), label))"
      ],
      "execution_count": null,
      "outputs": [
        {
          "output_type": "stream",
          "name": "stdout",
          "text": [
            "1962 datas with label=0\n",
            "2243 datas with label=1\n",
            "1989 datas with label=2\n",
            "2021 datas with label=3\n",
            "1924 datas with label=4\n",
            "1761 datas with label=5\n",
            "2039 datas with label=6\n",
            "2126 datas with label=7\n",
            "1912 datas with label=8\n",
            "2023 datas with label=9\n"
          ]
        }
      ]
    },
    {
      "cell_type": "code",
      "metadata": {
        "colab": {
          "base_uri": "https://localhost:8080/"
        },
        "id": "N8alG_HFiLR6",
        "outputId": "781d68ee-f619-46bc-b71b-650f27f13460"
      },
      "source": [
        "num_classes = len((np.unique(y)))\n",
        "print('number of classes: ', num_classes)"
      ],
      "execution_count": null,
      "outputs": [
        {
          "output_type": "stream",
          "name": "stdout",
          "text": [
            "number of classes:  10\n"
          ]
        }
      ]
    },
    {
      "cell_type": "markdown",
      "metadata": {
        "id": "k9V_dZrl_yfK"
      },
      "source": [
        "## Data visualization(on train data):"
      ]
    },
    {
      "cell_type": "code",
      "metadata": {
        "colab": {
          "base_uri": "https://localhost:8080/",
          "height": 281
        },
        "id": "hQhlzqWM_eXr",
        "outputId": "3d68bab3-f571-4d6c-cfb7-11eb946d58fb"
      },
      "source": [
        "plt.imshow(X[0].reshape(28, 28), cmap='gray')\n",
        "plt.title('label: %i' % y[0])\n",
        "plt.show()"
      ],
      "execution_count": null,
      "outputs": [
        {
          "output_type": "display_data",
          "data": {
            "image/png": "[encoded data removed]",
            "text/plain": [
              "<Figure size 432x288 with 1 Axes>"
            ]
          },
          "metadata": {
            "needs_background": "light"
          }
        }
      ]
    },
    {
      "cell_type": "code",
      "metadata": {
        "colab": {
          "base_uri": "https://localhost:8080/",
          "height": 482
        },
        "id": "ZJzxqqpW-e7D",
        "outputId": "72c44386-233a-4ff6-c0c1-4accf419cd7f"
      },
      "source": [
        "# visualization for multiple datas...\n",
        "\n",
        "figure = plt.figure(figsize=(10, 8))\n",
        "cols, rows = 5, 5\n",
        "for i in range(1, cols * rows + 1):\n",
        "    sample_idx = np.random.randint(1, len(X), 1)\n",
        "    img, label = X[sample_idx], y[sample_idx]\n",
        "    figure.add_subplot(rows, cols, i)\n",
        "    plt.title('label:{}'.format(int(label[0])))\n",
        "    plt.axis(\"off\")\n",
        "    plt.imshow(img.reshape(28, 28), cmap=\"gray\")\n",
        "plt.show()"
      ],
      "execution_count": null,
      "outputs": [
        {
          "output_type": "display_data",
          "data": {
            "image/png": "[encoded data removed]",
            "text/plain": [
              "<Figure size 720x576 with 25 Axes>"
            ]
          },
          "metadata": {
            "needs_background": "light"
          }
        }
      ]
    },
    {
      "cell_type": "code",
      "metadata": {
        "colab": {
          "base_uri": "https://localhost:8080/"
        },
        "id": "ls_n2oWqBqOJ",
        "outputId": "97f2d38f-545a-4e20-d477-1fb9bf679561"
      },
      "source": [
        "print('max values in pixels:', np.max(X))"
      ],
      "execution_count": null,
      "outputs": [
        {
          "output_type": "stream",
          "name": "stdout",
          "text": [
            "max values in pixels: 255.0\n"
          ]
        }
      ]
    },
    {
      "cell_type": "markdown",
      "metadata": {
        "id": "roG-HAp-CQaV"
      },
      "source": [
        "## Normalizing Data:"
      ]
    },
    {
      "cell_type": "code",
      "metadata": {
        "colab": {
          "base_uri": "https://localhost:8080/"
        },
        "id": "E_Q2l6mSCUgI",
        "outputId": "30c6562a-fab0-41b5-8971-6c3772dd76de"
      },
      "source": [
        "X /= 255.\n",
        "test_data /= 255. \n",
        "print(np.unique(X)) # printing values to findout if thair normalized or not."
      ],
      "execution_count": null,
      "outputs": [
        {
          "output_type": "stream",
          "name": "stdout",
          "text": [
            "[0.         0.00392157 0.00784314 0.01176471 0.01568627 0.01960784\n",
            " 0.02352941 0.02745098 0.03137255 0.03529412 0.03921569 0.04313725\n",
            " 0.04705882 0.05098039 0.05490196 0.05882353 0.0627451  0.06666667\n",
            " 0.07058824 0.0745098  0.07843137 0.08235294 0.08627451 0.09019608\n",
            " 0.09411765 0.09803922 0.10196078 0.10588235 0.10980392 0.11372549\n",
            " 0.11764706 0.12156863 0.1254902  0.12941176 0.13333333 0.1372549\n",
            " 0.14117647 0.14509804 0.14901961 0.15294118 0.15686275 0.16078431\n",
            " 0.16470588 0.16862745 0.17254902 0.17647059 0.18039216 0.18431373\n",
            " 0.18823529 0.19215686 0.19607843 0.2        0.20392157 0.20784314\n",
            " 0.21176471 0.21568627 0.21960784 0.22352941 0.22745098 0.23137255\n",
            " 0.23529412 0.23921569 0.24313725 0.24705882 0.25098039 0.25490196\n",
            " 0.25882353 0.2627451  0.26666667 0.27058824 0.2745098  0.27843137\n",
            " 0.28235294 0.28627451 0.29019608 0.29411765 0.29803922 0.30196078\n",
            " 0.30588235 0.30980392 0.31372549 0.31764706 0.32156863 0.3254902\n",
            " 0.32941176 0.33333333 0.3372549  0.34117647 0.34509804 0.34901961\n",
            " 0.35294118 0.35686275 0.36078431 0.36470588 0.36862745 0.37254902\n",
            " 0.37647059 0.38039216 0.38431373 0.38823529 0.39215686 0.39607843\n",
            " 0.4        0.40392157 0.40784314 0.41176471 0.41568627 0.41960784\n",
            " 0.42352941 0.42745098 0.43137255 0.43529412 0.43921569 0.44313725\n",
            " 0.44705882 0.45098039 0.45490196 0.45882353 0.4627451  0.46666667\n",
            " 0.47058824 0.4745098  0.47843137 0.48235294 0.48627451 0.49019608\n",
            " 0.49411765 0.49803922 0.50196078 0.50588235 0.50980392 0.51372549\n",
            " 0.51764706 0.52156863 0.5254902  0.52941176 0.53333333 0.5372549\n",
            " 0.54117647 0.54509804 0.54901961 0.55294118 0.55686275 0.56078431\n",
            " 0.56470588 0.56862745 0.57254902 0.57647059 0.58039216 0.58431373\n",
            " 0.58823529 0.59215686 0.59607843 0.6        0.60392157 0.60784314\n",
            " 0.61176471 0.61568627 0.61960784 0.62352941 0.62745098 0.63137255\n",
            " 0.63529412 0.63921569 0.64313725 0.64705882 0.65098039 0.65490196\n",
            " 0.65882353 0.6627451  0.66666667 0.67058824 0.6745098  0.67843137\n",
            " 0.68235294 0.68627451 0.69019608 0.69411765 0.69803922 0.70196078\n",
            " 0.70588235 0.70980392 0.71372549 0.71764706 0.72156863 0.7254902\n",
            " 0.72941176 0.73333333 0.7372549  0.74117647 0.74509804 0.74901961\n",
            " 0.75294118 0.75686275 0.76078431 0.76470588 0.76862745 0.77254902\n",
            " 0.77647059 0.78039216 0.78431373 0.78823529 0.79215686 0.79607843\n",
            " 0.8        0.80392157 0.80784314 0.81176471 0.81568627 0.81960784\n",
            " 0.82352941 0.82745098 0.83137255 0.83529412 0.83921569 0.84313725\n",
            " 0.84705882 0.85098039 0.85490196 0.85882353 0.8627451  0.86666667\n",
            " 0.87058824 0.8745098  0.87843137 0.88235294 0.88627451 0.89019608\n",
            " 0.89411765 0.89803922 0.90196078 0.90588235 0.90980392 0.91372549\n",
            " 0.91764706 0.92156863 0.9254902  0.92941176 0.93333333 0.9372549\n",
            " 0.94117647 0.94509804 0.94901961 0.95294118 0.95686275 0.96078431\n",
            " 0.96470588 0.96862745 0.97254902 0.97647059 0.98039216 0.98431373\n",
            " 0.98823529 0.99215686 0.99607843 1.        ]\n"
          ]
        }
      ]
    },
    {
      "cell_type": "markdown",
      "metadata": {
        "id": "L6MalbXa2o78"
      },
      "source": [
        "### Fixing Shape of data set:"
      ]
    },
    {
      "cell_type": "code",
      "metadata": {
        "colab": {
          "base_uri": "https://localhost:8080/"
        },
        "id": "yJfFFMaE0Jkw",
        "outputId": "14ceacf5-fccb-49b9-d004-ba981ffea20d"
      },
      "source": [
        "X = X.reshape(-1, 1, 28, 28)\n",
        "X_test = X.reshape(-1, 1, 28, 28)\n",
        "X.shape"
      ],
      "execution_count": null,
      "outputs": [
        {
          "output_type": "execute_result",
          "data": {
            "text/plain": [
              "(20000, 1, 28, 28)"
            ]
          },
          "metadata": {},
          "execution_count": 40
        }
      ]
    },
    {
      "cell_type": "markdown",
      "metadata": {
        "id": "V57lnl66dGi3"
      },
      "source": [
        "## converting to tensor and data set:"
      ]
    },
    {
      "cell_type": "code",
      "metadata": {
        "colab": {
          "base_uri": "https://localhost:8080/"
        },
        "id": "mpLraGUSYmnS",
        "outputId": "3cbbd4f0-5788-4d1e-ea15-b03ae0d6dbf2"
      },
      "source": [
        "tensor_X = torch.from_numpy(X)\n",
        "y = y.astype(int);\n",
        "tensor_y = torch.from_numpy(y)\n",
        "test_tensor_X = torch.from_numpy(X_test)\n",
        "y_test = y_test.astype(int);\n",
        "test_tensor_y = torch.from_numpy(y_test)\n",
        "print(tensor_X.shape)\n",
        "print(tensor_y.shape)\n",
        "\n",
        "# creating data set for train and test for plugin to dataloader...\n",
        "train_set = torch.utils.data.TensorDataset(tensor_X,tensor_y)\n",
        "test_set = torch.utils.data.TensorDataset(tensor_X,tensor_y)"
      ],
      "execution_count": null,
      "outputs": [
        {
          "output_type": "stream",
          "name": "stdout",
          "text": [
            "torch.Size([20000, 1, 28, 28])\n",
            "torch.Size([20000])\n"
          ]
        }
      ]
    },
    {
      "cell_type": "code",
      "metadata": {
        "colab": {
          "base_uri": "https://localhost:8080/"
        },
        "id": "MQqKWOvFhArR",
        "outputId": "cb920e36-3ebf-436d-a8f8-a5d6a936a7e4"
      },
      "source": [
        "print(train_set[0])  # viewing sample one in format (tensor, label)"
      ],
      "execution_count": null,
      "outputs": [
        {
          "output_type": "stream",
          "name": "stdout",
          "text": [
            "(tensor([[[0.0000, 0.0000, 0.0000, 0.0000, 0.0000, 0.0000, 0.0000, 0.0000,\n",
            "          0.0000, 0.0000, 0.0000, 0.0000, 0.0000, 0.0000, 0.0000, 0.0000,\n",
            "          0.0000, 0.0000, 0.0000, 0.0000, 0.0000, 0.0000, 0.0000, 0.0000,\n",
            "          0.0000, 0.0000, 0.0000, 0.0000],\n",
            "         [0.0000, 0.0000, 0.0000, 0.0000, 0.0000, 0.0000, 0.0000, 0.0000,\n",
            "          0.0000, 0.0000, 0.0000, 0.0000, 0.0000, 0.0000, 0.0000, 0.0000,\n",
            "          0.0000, 0.0000, 0.0000, 0.0000, 0.0000, 0.0000, 0.0000, 0.0000,\n",
            "          0.0000, 0.0000, 0.0000, 0.0000],\n",
            "         [0.0000, 0.0000, 0.0000, 0.0000, 0.0000, 0.0000, 0.0000, 0.0000,\n",
            "          0.0000, 0.0000, 0.0000, 0.0000, 0.0000, 0.0000, 0.0000, 0.0000,\n",
            "          0.0000, 0.0000, 0.0000, 0.0000, 0.0000, 0.0000, 0.0000, 0.0000,\n",
            "          0.0000, 0.0000, 0.0000, 0.0000],\n",
            "         [0.0000, 0.0000, 0.0000, 0.0000, 0.0000, 0.0000, 0.0000, 0.0000,\n",
            "          0.0000, 0.0000, 0.0000, 0.0000, 0.0000, 0.0000, 0.0000, 0.0000,\n",
            "          0.0000, 0.0000, 0.0000, 0.0000, 0.0000, 0.0000, 0.0000, 0.0000,\n",
            "          0.0000, 0.0000, 0.0000, 0.0000],\n",
            "         [0.0000, 0.0000, 0.0000, 0.0000, 0.0000, 0.0000, 0.0000, 0.0000,\n",
            "          0.0000, 0.0000, 0.0941, 0.2627, 0.2627, 0.0706, 0.0000, 0.0000,\n",
            "          0.0000, 0.0000, 0.0000, 0.0000, 0.0000, 0.0000, 0.0000, 0.0000,\n",
            "          0.0000, 0.0000, 0.0000, 0.0000],\n",
            "         [0.0000, 0.0000, 0.0000, 0.0000, 0.0000, 0.0000, 0.0000, 0.0000,\n",
            "          0.0000, 0.0000, 0.5137, 0.9882, 0.9882, 0.2588, 0.0000, 0.0000,\n",
            "          0.0000, 0.0000, 0.0000, 0.0000, 0.0000, 0.0000, 0.0000, 0.0000,\n",
            "          0.0000, 0.0000, 0.0000, 0.0000],\n",
            "         [0.0000, 0.0000, 0.0000, 0.0000, 0.0000, 0.0000, 0.0000, 0.0000,\n",
            "          0.0000, 0.6235, 0.9804, 0.9098, 0.1176, 0.1255, 0.0000, 0.0000,\n",
            "          0.0000, 0.0000, 0.0000, 0.0000, 0.0000, 0.0000, 0.0000, 0.0000,\n",
            "          0.0000, 0.0000, 0.0000, 0.0000],\n",
            "         [0.0000, 0.0000, 0.0000, 0.0000, 0.0000, 0.0000, 0.0000, 0.0000,\n",
            "          0.0588, 0.8706, 0.9882, 0.4235, 0.0000, 0.0000, 0.0000, 0.0000,\n",
            "          0.0000, 0.0000, 0.0000, 0.0000, 0.0000, 0.0000, 0.0000, 0.0000,\n",
            "          0.0000, 0.0000, 0.0000, 0.0000],\n",
            "         [0.0000, 0.0000, 0.0000, 0.0000, 0.0000, 0.0000, 0.0000, 0.0000,\n",
            "          0.5765, 0.9882, 0.7176, 0.0196, 0.0000, 0.0000, 0.0000, 0.0000,\n",
            "          0.0000, 0.0000, 0.0000, 0.0784, 0.3490, 0.3490, 0.2863, 0.0000,\n",
            "          0.0000, 0.0000, 0.0000, 0.0000],\n",
            "         [0.0000, 0.0000, 0.0000, 0.0000, 0.0000, 0.0000, 0.0000, 0.1882,\n",
            "          0.9686, 0.9882, 0.6235, 0.0000, 0.0000, 0.0000, 0.0000, 0.0000,\n",
            "          0.0000, 0.0000, 0.3098, 0.9255, 0.9882, 0.9882, 0.9765, 0.7765,\n",
            "          0.0627, 0.0000, 0.0000, 0.0000],\n",
            "         [0.0000, 0.0000, 0.0000, 0.0000, 0.0000, 0.0000, 0.1608, 0.7569,\n",
            "          0.9882, 0.7804, 0.0863, 0.0000, 0.0000, 0.0000, 0.0000, 0.0000,\n",
            "          0.0471, 0.5294, 0.9725, 0.9882, 0.9882, 0.9882, 0.9882, 0.9882,\n",
            "          0.3922, 0.0000, 0.0000, 0.0000],\n",
            "         [0.0000, 0.0000, 0.0000, 0.0000, 0.0000, 0.0000, 0.3922, 0.9882,\n",
            "          0.9882, 0.3451, 0.0000, 0.0000, 0.0000, 0.0000, 0.0000, 0.0431,\n",
            "          0.6706, 0.9882, 0.9882, 0.9216, 0.6863, 0.6980, 0.9882, 0.9882,\n",
            "          0.8784, 0.0000, 0.0000, 0.0000],\n",
            "         [0.0000, 0.0000, 0.0000, 0.0000, 0.0000, 0.0588, 0.8196, 0.9882,\n",
            "          0.9137, 0.0471, 0.0000, 0.0000, 0.0000, 0.0000, 0.1922, 0.6941,\n",
            "          0.9882, 0.9882, 0.3490, 0.1020, 0.0000, 0.0078, 0.6510, 0.9882,\n",
            "          0.9882, 0.0000, 0.0000, 0.0000],\n",
            "         [0.0000, 0.0000, 0.0000, 0.0000, 0.0000, 0.3765, 0.9922, 0.9922,\n",
            "          0.2314, 0.0000, 0.0000, 0.0000, 0.0000, 0.0431, 0.6941, 1.0000,\n",
            "          0.9922, 0.3608, 0.0000, 0.0000, 0.0000, 0.0000, 0.6078, 0.9922,\n",
            "          0.5020, 0.0000, 0.0000, 0.0000],\n",
            "         [0.0000, 0.0000, 0.0000, 0.0000, 0.0000, 0.5608, 0.9882, 0.9882,\n",
            "          0.0392, 0.0000, 0.0000, 0.0000, 0.0471, 0.6706, 0.9882, 0.8471,\n",
            "          0.4314, 0.0510, 0.0000, 0.0000, 0.0000, 0.0118, 0.7059, 0.9098,\n",
            "          0.0941, 0.0000, 0.0000, 0.0000],\n",
            "         [0.0000, 0.0000, 0.0000, 0.0000, 0.0000, 0.5608, 0.9882, 0.6667,\n",
            "          0.0078, 0.0000, 0.0000, 0.0000, 0.5294, 0.9882, 0.8196, 0.0745,\n",
            "          0.0000, 0.0000, 0.0000, 0.0000, 0.0000, 0.0471, 0.9882, 0.5176,\n",
            "          0.0000, 0.0000, 0.0000, 0.0000],\n",
            "         [0.0000, 0.0000, 0.0000, 0.0000, 0.0000, 0.9765, 0.9882, 0.3765,\n",
            "          0.0000, 0.0000, 0.0000, 0.0824, 0.9725, 0.9647, 0.1333, 0.0000,\n",
            "          0.0000, 0.0000, 0.0000, 0.0196, 0.2392, 0.9176, 0.5961, 0.0118,\n",
            "          0.0000, 0.0000, 0.0000, 0.0000],\n",
            "         [0.0000, 0.0000, 0.0000, 0.0000, 0.0000, 0.9922, 0.9882, 0.1725,\n",
            "          0.0000, 0.0000, 0.0000, 0.5686, 0.9882, 0.4078, 0.0000, 0.0000,\n",
            "          0.0000, 0.1804, 0.4471, 0.7216, 0.9882, 0.5843, 0.1333, 0.0000,\n",
            "          0.0000, 0.0000, 0.0000, 0.0000],\n",
            "         [0.0000, 0.0000, 0.0000, 0.0000, 0.0000, 0.9922, 0.9882, 0.3216,\n",
            "          0.0000, 0.0000, 0.1216, 0.9373, 0.9882, 0.2588, 0.1529, 0.3490,\n",
            "          0.6471, 0.9529, 0.9882, 0.9137, 0.4941, 0.0196, 0.0000, 0.0000,\n",
            "          0.0000, 0.0000, 0.0000, 0.0000],\n",
            "         [0.0000, 0.0000, 0.0000, 0.0000, 0.0000, 0.9765, 0.9882, 0.9569,\n",
            "          0.4941, 0.3843, 0.5608, 0.9882, 0.9882, 0.9294, 0.9412, 0.9922,\n",
            "          0.9882, 0.9529, 0.6824, 0.0667, 0.0000, 0.0000, 0.0000, 0.0000,\n",
            "          0.0000, 0.0000, 0.0000, 0.0000],\n",
            "         [0.0000, 0.0000, 0.0000, 0.0000, 0.0000, 0.4667, 0.9373, 0.9882,\n",
            "          0.9882, 0.9882, 0.9882, 0.9882, 0.9882, 0.9882, 0.9882, 0.8941,\n",
            "          0.7020, 0.0667, 0.0000, 0.0000, 0.0000, 0.0000, 0.0000, 0.0000,\n",
            "          0.0000, 0.0000, 0.0000, 0.0000],\n",
            "         [0.0000, 0.0000, 0.0000, 0.0000, 0.0000, 0.0000, 0.1804, 0.2588,\n",
            "          0.2588, 0.2588, 0.2588, 0.2588, 0.2588, 0.2588, 0.2588, 0.1137,\n",
            "          0.0000, 0.0000, 0.0000, 0.0000, 0.0000, 0.0000, 0.0000, 0.0000,\n",
            "          0.0000, 0.0000, 0.0000, 0.0000],\n",
            "         [0.0000, 0.0000, 0.0000, 0.0000, 0.0000, 0.0000, 0.0000, 0.0000,\n",
            "          0.0000, 0.0000, 0.0000, 0.0000, 0.0000, 0.0000, 0.0000, 0.0000,\n",
            "          0.0000, 0.0000, 0.0000, 0.0000, 0.0000, 0.0000, 0.0000, 0.0000,\n",
            "          0.0000, 0.0000, 0.0000, 0.0000],\n",
            "         [0.0000, 0.0000, 0.0000, 0.0000, 0.0000, 0.0000, 0.0000, 0.0000,\n",
            "          0.0000, 0.0000, 0.0000, 0.0000, 0.0000, 0.0000, 0.0000, 0.0000,\n",
            "          0.0000, 0.0000, 0.0000, 0.0000, 0.0000, 0.0000, 0.0000, 0.0000,\n",
            "          0.0000, 0.0000, 0.0000, 0.0000],\n",
            "         [0.0000, 0.0000, 0.0000, 0.0000, 0.0000, 0.0000, 0.0000, 0.0000,\n",
            "          0.0000, 0.0000, 0.0000, 0.0000, 0.0000, 0.0000, 0.0000, 0.0000,\n",
            "          0.0000, 0.0000, 0.0000, 0.0000, 0.0000, 0.0000, 0.0000, 0.0000,\n",
            "          0.0000, 0.0000, 0.0000, 0.0000],\n",
            "         [0.0000, 0.0000, 0.0000, 0.0000, 0.0000, 0.0000, 0.0000, 0.0000,\n",
            "          0.0000, 0.0000, 0.0000, 0.0000, 0.0000, 0.0000, 0.0000, 0.0000,\n",
            "          0.0000, 0.0000, 0.0000, 0.0000, 0.0000, 0.0000, 0.0000, 0.0000,\n",
            "          0.0000, 0.0000, 0.0000, 0.0000],\n",
            "         [0.0000, 0.0000, 0.0000, 0.0000, 0.0000, 0.0000, 0.0000, 0.0000,\n",
            "          0.0000, 0.0000, 0.0000, 0.0000, 0.0000, 0.0000, 0.0000, 0.0000,\n",
            "          0.0000, 0.0000, 0.0000, 0.0000, 0.0000, 0.0000, 0.0000, 0.0000,\n",
            "          0.0000, 0.0000, 0.0000, 0.0000],\n",
            "         [0.0000, 0.0000, 0.0000, 0.0000, 0.0000, 0.0000, 0.0000, 0.0000,\n",
            "          0.0000, 0.0000, 0.0000, 0.0000, 0.0000, 0.0000, 0.0000, 0.0000,\n",
            "          0.0000, 0.0000, 0.0000, 0.0000, 0.0000, 0.0000, 0.0000, 0.0000,\n",
            "          0.0000, 0.0000, 0.0000, 0.0000]]], dtype=torch.float64), tensor(6))\n"
          ]
        }
      ]
    },
    {
      "cell_type": "markdown",
      "metadata": {
        "id": "clJ5NL_j6Ube"
      },
      "source": [
        "### Creating Data loader:"
      ]
    },
    {
      "cell_type": "code",
      "metadata": {
        "colab": {
          "base_uri": "https://localhost:8080/"
        },
        "id": "coy2GTpG3x1K",
        "outputId": "210de636-5db3-4caf-deb3-6e3d924d0ee8"
      },
      "source": [
        "BATCH_SIZE = 16\n",
        "\n",
        "train_loader = DataLoader(train_set, batch_size=BATCH_SIZE, shuffle=True)\n",
        "test_loader = DataLoader(test_set, batch_size=BATCH_SIZE)\n",
        "\n",
        "for X, y in train_loader:\n",
        "    print(\"Shape of X [N, C, H, W]: \", X.shape)\n",
        "    print(\"Shape of y: \", y.shape, y.dtype)\n",
        "    break"
      ],
      "execution_count": null,
      "outputs": [
        {
          "output_type": "stream",
          "name": "stdout",
          "text": [
            "Shape of X [N, C, H, W]:  torch.Size([16, 1, 28, 28])\n",
            "Shape of y:  torch.Size([16]) torch.int64\n"
          ]
        }
      ]
    },
    {
      "cell_type": "markdown",
      "metadata": {
        "id": "CuvWnhJr91BL"
      },
      "source": [
        "## Declearing CNN model:"
      ]
    },
    {
      "cell_type": "code",
      "metadata": {
        "id": "XfndZBusZamg"
      },
      "source": [
        "class CNN(nn.Module):   \n",
        "    def __init__(self, num_classes):\n",
        "        super(CNN, self).__init__()\n",
        "\n",
        "        self.cnn_layers = nn.Sequential(\n",
        "            # Defining a 2D convolution layer\n",
        "            nn.Conv2d(in_channels=1, out_channels=16, kernel_size=3, stride=1, padding=1),\n",
        "            nn.ReLU(),\n",
        "            nn.MaxPool2d(kernel_size=2, stride=2),\n",
        "            # Defining another 2D convolution layer\n",
        "            nn.Conv2d(16, 32, kernel_size=3, stride=1, padding=1),\n",
        "            nn.ReLU(),\n",
        "            nn.MaxPool2d(kernel_size=2, stride=2),\n",
        "        )\n",
        "        self.history = {'loss':[]}\n",
        "        self.linear_layers = nn.Sequential(nn.Linear(32 * 7 * 7, num_classes))\n",
        "\n",
        "    # Defining the forward pass    \n",
        "    def forward(self, x):\n",
        "        x = self.cnn_layers(x)\n",
        "        # flatten the output of conv2 to (batch_size, 32 * 7 * 7)\n",
        "        x = x.view(x.size(0), -1)       \n",
        "        output = self.linear_layers(x)\n",
        "        return output, x\n",
        "\n",
        "    def modelSummery(self):\n",
        "        print(self)"
      ],
      "execution_count": null,
      "outputs": []
    },
    {
      "cell_type": "code",
      "metadata": {
        "colab": {
          "base_uri": "https://localhost:8080/"
        },
        "id": "rEFz7U33kUqW",
        "outputId": "1db625ce-ff44-4cbd-98f6-42b0004aec1a"
      },
      "source": [
        "cnn1 = CNN(num_classes)\n",
        "print('CNN summery:\\n')\n",
        "cnn1.modelSummery()"
      ],
      "execution_count": null,
      "outputs": [
        {
          "output_type": "stream",
          "name": "stdout",
          "text": [
            "CNN summery:\n",
            "\n",
            "CNN(\n",
            "  (cnn_layers): Sequential(\n",
            "    (0): Conv2d(1, 16, kernel_size=(3, 3), stride=(1, 1), padding=(1, 1))\n",
            "    (1): ReLU()\n",
            "    (2): MaxPool2d(kernel_size=2, stride=2, padding=0, dilation=1, ceil_mode=False)\n",
            "    (3): Conv2d(16, 32, kernel_size=(3, 3), stride=(1, 1), padding=(1, 1))\n",
            "    (4): ReLU()\n",
            "    (5): MaxPool2d(kernel_size=2, stride=2, padding=0, dilation=1, ceil_mode=False)\n",
            "  )\n",
            "  (linear_layers): Sequential(\n",
            "    (0): Linear(in_features=1568, out_features=10, bias=True)\n",
            "  )\n",
            ")\n"
          ]
        }
      ]
    },
    {
      "cell_type": "markdown",
      "metadata": {
        "id": "9oTreAsOmaSH"
      },
      "source": [
        "## Defining Loss function and Optimization function:"
      ]
    },
    {
      "cell_type": "code",
      "metadata": {
        "colab": {
          "base_uri": "https://localhost:8080/"
        },
        "id": "QGXGhMaUlK_9",
        "outputId": "bad77671-907f-4c99-818d-32f545669828"
      },
      "source": [
        "loss_func = nn.CrossEntropyLoss() if num_classes > 2 else nn.BCELoss()   \n",
        "opt = optim.Adam(cnn1.parameters(), lr = 0.001)   \n",
        "\n",
        "print(loss_func)\n",
        "print(opt)"
      ],
      "execution_count": null,
      "outputs": [
        {
          "output_type": "stream",
          "name": "stdout",
          "text": [
            "CrossEntropyLoss()\n",
            "Adam (\n",
            "Parameter Group 0\n",
            "    amsgrad: False\n",
            "    betas: (0.9, 0.999)\n",
            "    eps: 1e-08\n",
            "    lr: 0.001\n",
            "    weight_decay: 0\n",
            ")\n"
          ]
        }
      ]
    },
    {
      "cell_type": "markdown",
      "metadata": {
        "id": "dJAnIbmu99fH"
      },
      "source": [
        "## Train function implementation:"
      ]
    },
    {
      "cell_type": "code",
      "metadata": {
        "id": "HMaJlbL6oT4S"
      },
      "source": [
        "def train(dataloader, model, loss_fn, optimizer, datasetSize):\n",
        "    size = len(dataloader.dataset)\n",
        "    running_loss = 0.0\n",
        "    model.train()\n",
        "    for batch, (X, y) in enumerate(dataloader):\n",
        "        X, y = Variable(X).float(), Variable(y)\n",
        "\n",
        "        # Compute prediction error\n",
        "        pred = model(X)\n",
        "        loss = loss_fn(pred[0], y)\n",
        "        # print(loss)\n",
        "      \n",
        "        # Backpropagation\n",
        "        optimizer.zero_grad()\n",
        "        loss.backward()\n",
        "        optimizer.step()\n",
        "\n",
        "        running_loss += loss.item() * X.size(0) \n",
        "\n",
        "        epoch_loss = running_loss / datasetSize\n",
        "        model.history['loss'].append(epoch_loss)\n",
        "\n",
        "        if batch % 100 == 0:\n",
        "            loss, current = loss.item(), batch * len(X)\n",
        "            print(f\"loss: {loss:>7f}  [{current:>5d}/{size:>5d}]\")"
      ],
      "execution_count": null,
      "outputs": []
    },
    {
      "cell_type": "code",
      "metadata": {
        "colab": {
          "base_uri": "https://localhost:8080/"
        },
        "id": "qtma3q4C1IDm",
        "outputId": "4fcf9f6a-e8e5-492a-b0d3-84b0fe3d7d20"
      },
      "source": [
        "len(train_set)"
      ],
      "execution_count": null,
      "outputs": [
        {
          "output_type": "execute_result",
          "data": {
            "text/plain": [
              "20000"
            ]
          },
          "metadata": {},
          "execution_count": 48
        }
      ]
    },
    {
      "cell_type": "code",
      "metadata": {
        "colab": {
          "base_uri": "https://localhost:8080/"
        },
        "id": "L9-t3YiPvjVp",
        "outputId": "ea2c6949-6766-45b6-ce33-9d6c15c88eac"
      },
      "source": [
        "epochs = 5\n",
        "datasetSize = len(train_set)\n",
        "for i in range(epochs):\n",
        "    print(\"Epoch {}\\n-------------------------------\".format(i))\n",
        "    train(train_loader, cnn1, loss_func, opt, datasetSize)\n",
        "# train(epochs, BATCH_SIZE,train_loader, cnn1, loss_func, opt)"
      ],
      "execution_count": null,
      "outputs": [
        {
          "output_type": "stream",
          "name": "stdout",
          "text": [
            "Epoch 0\n",
            "-------------------------------\n",
            "loss: 2.330679  [    0/20000]\n",
            "loss: 0.660120  [ 1600/20000]\n",
            "loss: 0.273002  [ 3200/20000]\n",
            "loss: 0.179969  [ 4800/20000]\n",
            "loss: 0.124924  [ 6400/20000]\n",
            "loss: 0.060964  [ 8000/20000]\n",
            "loss: 0.032117  [ 9600/20000]\n",
            "loss: 0.045296  [11200/20000]\n",
            "loss: 0.067907  [12800/20000]\n",
            "loss: 0.119756  [14400/20000]\n",
            "loss: 0.068577  [16000/20000]\n",
            "loss: 0.080626  [17600/20000]\n",
            "loss: 0.067888  [19200/20000]\n",
            "Epoch 1\n",
            "-------------------------------\n",
            "loss: 0.071309  [    0/20000]\n",
            "loss: 0.229573  [ 1600/20000]\n",
            "loss: 0.007442  [ 3200/20000]\n",
            "loss: 0.021443  [ 4800/20000]\n",
            "loss: 0.015411  [ 6400/20000]\n",
            "loss: 0.052432  [ 8000/20000]\n",
            "loss: 0.015459  [ 9600/20000]\n",
            "loss: 0.079456  [11200/20000]\n",
            "loss: 0.075276  [12800/20000]\n",
            "loss: 0.195999  [14400/20000]\n",
            "loss: 0.046047  [16000/20000]\n",
            "loss: 0.000851  [17600/20000]\n",
            "loss: 0.046589  [19200/20000]\n",
            "Epoch 2\n",
            "-------------------------------\n",
            "loss: 0.141600  [    0/20000]\n",
            "loss: 0.010651  [ 1600/20000]\n",
            "loss: 0.219936  [ 3200/20000]\n",
            "loss: 0.025647  [ 4800/20000]\n",
            "loss: 0.012630  [ 6400/20000]\n",
            "loss: 0.056214  [ 8000/20000]\n",
            "loss: 0.152092  [ 9600/20000]\n",
            "loss: 0.003442  [11200/20000]\n",
            "loss: 0.002579  [12800/20000]\n",
            "loss: 0.073253  [14400/20000]\n",
            "loss: 0.035086  [16000/20000]\n",
            "loss: 0.236712  [17600/20000]\n",
            "loss: 0.054620  [19200/20000]\n",
            "Epoch 3\n",
            "-------------------------------\n",
            "loss: 0.027591  [    0/20000]\n",
            "loss: 0.005518  [ 1600/20000]\n",
            "loss: 0.009338  [ 3200/20000]\n",
            "loss: 0.023517  [ 4800/20000]\n",
            "loss: 0.099848  [ 6400/20000]\n",
            "loss: 0.000291  [ 8000/20000]\n",
            "loss: 0.002322  [ 9600/20000]\n",
            "loss: 0.013354  [11200/20000]\n",
            "loss: 0.001456  [12800/20000]\n",
            "loss: 0.001205  [14400/20000]\n",
            "loss: 0.001126  [16000/20000]\n",
            "loss: 0.083798  [17600/20000]\n",
            "loss: 0.005027  [19200/20000]\n",
            "Epoch 4\n",
            "-------------------------------\n",
            "loss: 0.040091  [    0/20000]\n",
            "loss: 0.084909  [ 1600/20000]\n",
            "loss: 0.000146  [ 3200/20000]\n",
            "loss: 0.030879  [ 4800/20000]\n",
            "loss: 0.004756  [ 6400/20000]\n",
            "loss: 0.002633  [ 8000/20000]\n",
            "loss: 0.001169  [ 9600/20000]\n",
            "loss: 0.000586  [11200/20000]\n",
            "loss: 0.004648  [12800/20000]\n",
            "loss: 0.035717  [14400/20000]\n",
            "loss: 0.003427  [16000/20000]\n",
            "loss: 0.042442  [17600/20000]\n",
            "loss: 0.226400  [19200/20000]\n"
          ]
        }
      ]
    },
    {
      "cell_type": "markdown",
      "metadata": {
        "id": "n8s_cnTg4ot6"
      },
      "source": [
        "## Evaluate the model on test Data:"
      ]
    },
    {
      "cell_type": "code",
      "metadata": {
        "id": "ooAiZmZ_XmaC"
      },
      "source": [
        "def test(dataloader, model, loss_fn):\n",
        "    size = len(dataloader.dataset)\n",
        "    num_batches = len(dataloader)\n",
        "    model.eval()\n",
        "    test_loss, correct = 0, 0\n",
        "    with torch.no_grad():\n",
        "        for X, y in dataloader:\n",
        "            X, y = Variable(X).float(), Variable(y)\n",
        "            pred = model(X)\n",
        "            test_loss += loss_fn(pred[0], y).item()\n",
        "            correct += (pred[0].argmax(axis = 1) == y).type(torch.float).sum().item()\n",
        "    test_loss /= num_batches\n",
        "    correct /= size\n",
        "    print(f\"Test Error: \\n Accuracy: {(100*correct):>0.1f}%, Avg loss: {test_loss:>8f} \\n\")"
      ],
      "execution_count": null,
      "outputs": []
    },
    {
      "cell_type": "code",
      "metadata": {
        "colab": {
          "base_uri": "https://localhost:8080/"
        },
        "id": "aSZMu9QFXoFM",
        "outputId": "a73d05cb-09c3-4d37-92d6-31ca89314076"
      },
      "source": [
        "epochs = 5\n",
        "for i in range(epochs):\n",
        "    print(f\"Epoch {i+1}\\n-------------------------------\")\n",
        "    test(train_loader, cnn1, loss_func)\n",
        "print(\"Done!\")"
      ],
      "execution_count": null,
      "outputs": [
        {
          "output_type": "stream",
          "name": "stdout",
          "text": [
            "Epoch 1\n",
            "-------------------------------\n",
            "Test Error: \n",
            " Accuracy: 99.3%, Avg loss: 0.022746 \n",
            "\n",
            "Epoch 2\n",
            "-------------------------------\n",
            "Test Error: \n",
            " Accuracy: 99.3%, Avg loss: 0.022746 \n",
            "\n",
            "Epoch 3\n",
            "-------------------------------\n",
            "Test Error: \n",
            " Accuracy: 99.3%, Avg loss: 0.022746 \n",
            "\n",
            "Epoch 4\n",
            "-------------------------------\n",
            "Test Error: \n",
            " Accuracy: 99.3%, Avg loss: 0.022746 \n",
            "\n",
            "Epoch 5\n",
            "-------------------------------\n",
            "Test Error: \n",
            " Accuracy: 99.3%, Avg loss: 0.022746 \n",
            "\n",
            "Done!\n"
          ]
        }
      ]
    },
    {
      "cell_type": "code",
      "metadata": {
        "colab": {
          "base_uri": "https://localhost:8080/",
          "height": 312
        },
        "id": "aC5_jtfcweUy",
        "outputId": "2d94bcc9-84f3-4a7a-d26d-a1d135f7d2ac"
      },
      "source": [
        "plt.plot(cnn1.history['loss'])\n",
        "plt.xlabel('#itrations')\n",
        "plt.ylabel('loss')\n",
        "plt.title('learing curve of train')"
      ],
      "execution_count": null,
      "outputs": [
        {
          "output_type": "execute_result",
          "data": {
            "text/plain": [
              "Text(0.5, 1.0, 'learing curve of train')"
            ]
          },
          "metadata": {},
          "execution_count": 52
        },
        {
          "output_type": "display_data",
          "data": {
            "image/png": "[encoded data removed]",
            "text/plain": [
              "<Figure size 432x288 with 1 Axes>"
            ]
          },
          "metadata": {
            "needs_background": "light"
          }
        }
      ]
    },
    {
      "cell_type": "markdown",
      "metadata": {
        "id": "LnNae8s94ivD"
      },
      "source": [
        "## 16 predictions from test data"
      ]
    },
    {
      "cell_type": "code",
      "metadata": {
        "colab": {
          "base_uri": "https://localhost:8080/"
        },
        "id": "1kdLwJa73gpv",
        "outputId": "9c194213-02f4-426b-aa5f-bcc58cc951c0"
      },
      "source": [
        "sample = next(iter(test_loader))  # picking one batch from test data.\n",
        "imgs, labels = sample\n",
        "print('samples we want to test with model:' , (imgs.shape, labels.shape))   # we have 16 data in one batch we want to predict 16 samples using cnn model.\n",
        "real_number = labels.numpy()\n",
        "print('\\nmain test data labels: ', real_number)"
      ],
      "execution_count": null,
      "outputs": [
        {
          "output_type": "stream",
          "name": "stdout",
          "text": [
            "samples we want to test with model: (torch.Size([16, 1, 28, 28]), torch.Size([16]))\n",
            "\n",
            "main test data labels:  [6 5 7 9 5 2 0 6 5 5 2 7 7 6 8 9]\n"
          ]
        }
      ]
    },
    {
      "cell_type": "code",
      "metadata": {
        "colab": {
          "base_uri": "https://localhost:8080/"
        },
        "id": "VfNyrnb75vA7",
        "outputId": "b3c512c9-ad3e-4b6f-d635-d7fb8f56deba"
      },
      "source": [
        "test_output, last_layer = cnn1(Variable(imgs).float())\n",
        "y_pred = torch.max(test_output, axis=1)[1].data.numpy()\n",
        "print('Prediction: ',y_pred)\n",
        "print('Actual number: ', real_number)"
      ],
      "execution_count": null,
      "outputs": [
        {
          "output_type": "stream",
          "name": "stdout",
          "text": [
            "Prediction:  [6 5 7 9 5 2 0 6 5 5 2 7 7 6 8 9]\n",
            "Actual number:  [6 5 7 9 5 2 0 6 5 5 2 7 7 6 8 9]\n"
          ]
        }
      ]
    },
    {
      "cell_type": "code",
      "metadata": {
        "colab": {
          "base_uri": "https://localhost:8080/"
        },
        "id": "v2sGlCJy8s89",
        "outputId": "c9df7e29-09c0-46fe-fab9-30237d60dcbf"
      },
      "source": [
        "print('CNN model predicted {} correctly'.format(np.count_nonzero(y_pred == real_number)))"
      ],
      "execution_count": null,
      "outputs": [
        {
          "output_type": "stream",
          "name": "stdout",
          "text": [
            "CNN model predicted 16 correctly\n"
          ]
        }
      ]
    }
  ]
}